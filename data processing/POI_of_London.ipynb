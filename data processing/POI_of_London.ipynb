{
 "cells": [
  {
   "cell_type": "code",
   "execution_count": null,
   "id": "431258f5-5865-43f4-91f3-8f44c0504a3d",
   "metadata": {},
   "outputs": [],
   "source": [
    "import osmnx as ox\n",
    "import pandas as pd\n",
    "\n",
    "# Set the area as London\n",
    "place_name = \"London, England\"\n",
    "\n",
    "# Download and extract POI data\n",
    "gdf = ox.geometries_from_place(place_name, {\"amenity\": True})\n",
    "\n",
    "# Extract fields of interest\n",
    "columns_of_interest = ['osmid', 'geometry', 'amenity']\n",
    "poi_df = gdf.reset_index()[columns_of_interest]\n",
    "\n",
    "# Separate latitude and longitude\n",
    "poi_df['lat'] = poi_df['geometry'].centroid.y\n",
    "poi_df['lon'] = poi_df['geometry'].centroid.x\n",
    "\n",
    "output_df = poi_df[['osmid', 'lat', 'lon', 'amenity']]\n",
    "output_df.columns = ['id', 'lat', 'lon', 'amenity']\n",
    "\n",
    "# Save the data as CSV file\n",
    "output_file = \"london_pois.csv\"\n",
    "output_df.to_csv(/Users/zoyouwe/Desktop/data/output_file, index=False)\n"
   ]
  },
  {
   "cell_type": "code",
   "execution_count": null,
   "id": "c80dc693-5a45-447e-8a49-3eaa5cd56221",
   "metadata": {},
   "outputs": [],
   "source": []
  }
 ],
 "metadata": {
  "kernelspec": {
   "display_name": "Python 3 (ipykernel)",
   "language": "python",
   "name": "python3"
  },
  "language_info": {
   "codemirror_mode": {
    "name": "ipython",
    "version": 3
   },
   "file_extension": ".py",
   "mimetype": "text/x-python",
   "name": "python",
   "nbconvert_exporter": "python",
   "pygments_lexer": "ipython3",
   "version": "3.11.5"
  }
 },
 "nbformat": 4,
 "nbformat_minor": 5
}
